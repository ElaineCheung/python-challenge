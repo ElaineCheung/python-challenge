{
 "cells": [
  {
   "cell_type": "code",
   "execution_count": 1,
   "metadata": {},
   "outputs": [],
   "source": [
    "import csv\n",
    "import os"
   ]
  },
  {
   "cell_type": "code",
   "execution_count": 2,
   "metadata": {},
   "outputs": [],
   "source": [
    "csvpath = os.path.join(\"Resources\", \"election_data.csv\")"
   ]
  },
  {
   "cell_type": "code",
   "execution_count": 3,
   "metadata": {},
   "outputs": [
    {
     "name": "stdout",
     "output_type": "stream",
     "text": [
      "3521001\n"
     ]
    }
   ],
   "source": [
    "#The total number of votes cast\n",
    "\n",
    "Total_votes = []\n",
    "counter = 1\n",
    "with open(csvpath,'r') as csvfile:\n",
    "    csvreader = csv.reader(csvfile, delimiter=',')\n",
    "    header = next(csvreader)\n",
    "    for row in csvreader:\n",
    "        Total_votes = counter\n",
    "\n",
    "with open(csvpath,'r') as csvfile:\n",
    "    csvreader = csv.reader(csvfile, delimiter=',')\n",
    "    header = next(csvreader)\n",
    "    Total_votes = sum(int(counter) for row in csvreader)\n",
    "print(Total_votes)"
   ]
  },
  {
   "cell_type": "code",
   "execution_count": 4,
   "metadata": {},
   "outputs": [
    {
     "name": "stdout",
     "output_type": "stream",
     "text": [
      "['Khan', 'Correy', 'Li', \"O'Tooley\"]\n"
     ]
    }
   ],
   "source": [
    "# A complete list of candidates who received votes\n",
    "Candidate_list=[]\n",
    "\n",
    "with open(csvpath,'r') as csvfile:\n",
    "    csvreader = csv.reader(csvfile, delimiter=',')\n",
    "    header = next(csvreader)\n",
    "    for row in csvreader:\n",
    "        if row[2] not in Candidate_list: \n",
    "            Candidate_list.append(row[2])\n",
    "print(Candidate_list)"
   ]
  },
  {
   "cell_type": "code",
   "execution_count": 5,
   "metadata": {},
   "outputs": [
    {
     "name": "stdout",
     "output_type": "stream",
     "text": [
      "2218231\n",
      "63.00%\n"
     ]
    }
   ],
   "source": [
    "Khan_votes = []\n",
    "\n",
    "with open(csvpath,'r') as csvfile:\n",
    "    csvreader = csv.reader(csvfile, delimiter=',')\n",
    "    header = next(csvreader)\n",
    "    Khan_votes = sum(int((row[2]).count(\"Khan\")) for row in csvreader) \n",
    "    \n",
    "Khan_percent=(Khan_votes/Total_votes)\n",
    "Khan_percentage=\"{:.2%}\".format(Khan_percent)\n",
    "print(Khan_votes)\n",
    "print(Khan_percentage)"
   ]
  },
  {
   "cell_type": "code",
   "execution_count": 6,
   "metadata": {},
   "outputs": [
    {
     "name": "stdout",
     "output_type": "stream",
     "text": [
      "704200\n",
      "20.00%\n"
     ]
    }
   ],
   "source": [
    "Correy_votes = []\n",
    "\n",
    "with open(csvpath,'r') as csvfile:\n",
    "    csvreader = csv.reader(csvfile, delimiter=',')\n",
    "    header = next(csvreader)\n",
    "    Correy_votes = sum(int((row[2]).count(\"Correy\")) for row in csvreader) \n",
    "\n",
    "Correy_percent=(Correy_votes/Total_votes)\n",
    "Correy_percentage=\"{:.2%}\".format(Correy_percent)\n",
    "print(Correy_votes)\n",
    "print(Correy_percentage)"
   ]
  },
  {
   "cell_type": "code",
   "execution_count": 7,
   "metadata": {},
   "outputs": [
    {
     "name": "stdout",
     "output_type": "stream",
     "text": [
      "492940\n",
      "14.00%\n"
     ]
    }
   ],
   "source": [
    "Li_votes = []\n",
    "\n",
    "with open(csvpath,'r') as csvfile:\n",
    "    csvreader = csv.reader(csvfile, delimiter=',')\n",
    "    header = next(csvreader)\n",
    "    Li_votes = sum(int((row[2]).count(\"Li\")) for row in csvreader) \n",
    "\n",
    "Li_percent=(Li_votes/Total_votes)\n",
    "Li_percentage=\"{:.2%}\".format(Li_percent)\n",
    "print(Li_votes)\n",
    "print(Li_percentage)"
   ]
  },
  {
   "cell_type": "code",
   "execution_count": 8,
   "metadata": {},
   "outputs": [
    {
     "name": "stdout",
     "output_type": "stream",
     "text": [
      "105630\n",
      "3.00%\n"
     ]
    }
   ],
   "source": [
    "OTooley_votes = []\n",
    "\n",
    "with open(csvpath,'r') as csvfile:\n",
    "    csvreader = csv.reader(csvfile, delimiter=',')\n",
    "    header = next(csvreader)\n",
    "    OTooley_votes = sum(int((row[2]).count(\"O'Tooley\")) for row in csvreader) \n",
    "\n",
    "OTooley_percent=(OTooley_votes/Total_votes)\n",
    "OTooley_percentage=\"{:.2%}\".format(OTooley_percent)\n",
    "print(OTooley_votes)\n",
    "print(OTooley_percentage)"
   ]
  },
  {
   "cell_type": "code",
   "execution_count": 9,
   "metadata": {},
   "outputs": [
    {
     "name": "stdout",
     "output_type": "stream",
     "text": [
      "Khan\n"
     ]
    }
   ],
   "source": [
    "#The winner of the election based on popular vote.\n",
    "votes_per_candidate = {\"Khan\":Khan_votes, \"Correy\": Correy_votes, \"Li\": Li_votes, \"O'Tooley\": OTooley_votes}\n",
    "import operator\n",
    "winner=max(votes_per_candidate.items(), key=operator.itemgetter(1))[0]\n",
    "print(winner)\n"
   ]
  },
  {
   "cell_type": "code",
   "execution_count": 11,
   "metadata": {},
   "outputs": [
    {
     "name": "stdout",
     "output_type": "stream",
     "text": [
      "\n",
      "Election Results\n",
      "-----------------\n",
      "Total Votes: 3521001\n",
      "-----------------\n",
      "Khan: 63.00% (2218231)\n",
      "Correy: 20.00% (704200)\n",
      "Li: 14.00% (492940)\n",
      "O'Tooley: 3.00% (105630)\n",
      "-----------------\n",
      "Winner: Khan\n",
      "-----------------\n",
      "\n"
     ]
    }
   ],
   "source": [
    "output = (\n",
    "    f\"\\nElection Results\\n\"\n",
    "    f\"-----------------\\n\"\n",
    "    f\"Total Votes: {Total_votes}\\n\"\n",
    "    f\"-----------------\\n\"\n",
    "    f\"Khan: {Khan_percentage} ({Khan_votes})\\n\"\n",
    "    f\"Correy: {Correy_percentage} ({Correy_votes})\\n\"\n",
    "    f\"Li: {Li_percentage} ({Li_votes})\\n\"\n",
    "    f\"O'Tooley: {OTooley_percentage} ({OTooley_votes})\\n\"\n",
    "    f\"-----------------\\n\"\n",
    "    f\"Winner: {winner}\\n\"\n",
    "    f\"-----------------\\n\")\n",
    "\n",
    "# Print all of the results (to terminal)\n",
    "print(output)\n",
    "\n",
    "file_to_output = os.path.join(\"analysis\", \"PyPoll_output.txt\")\n",
    "\n",
    "# Save the results to analysis text file\n",
    "with open(file_to_output, \"a\") as txt_file:\n",
    "    txt_file.write(output)"
   ]
  },
  {
   "cell_type": "code",
   "execution_count": null,
   "metadata": {},
   "outputs": [],
   "source": []
  }
 ],
 "metadata": {
  "kernelspec": {
   "display_name": "p36workshop",
   "language": "python",
   "name": "p36workshop"
  },
  "language_info": {
   "codemirror_mode": {
    "name": "ipython",
    "version": 3
   },
   "file_extension": ".py",
   "mimetype": "text/x-python",
   "name": "python",
   "nbconvert_exporter": "python",
   "pygments_lexer": "ipython3",
   "version": "3.6.10"
  }
 },
 "nbformat": 4,
 "nbformat_minor": 2
}

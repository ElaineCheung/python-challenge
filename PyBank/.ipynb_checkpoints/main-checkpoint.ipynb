{
 "cells": [
  {
   "cell_type": "code",
   "execution_count": 1,
   "metadata": {},
   "outputs": [],
   "source": [
    "import csv\n",
    "import os"
   ]
  },
  {
   "cell_type": "code",
   "execution_count": 2,
   "metadata": {},
   "outputs": [],
   "source": [
    "csvpath = os.path.join(\"Resources\", \"budget_data.csv\")"
   ]
  },
  {
   "cell_type": "code",
   "execution_count": 3,
   "metadata": {},
   "outputs": [
    {
     "name": "stdout",
     "output_type": "stream",
     "text": [
      "['Jan', 'Feb', 'Mar', 'Apr', 'May', 'Jun', 'Jul', 'Aug', 'Sep', 'Oct', 'Nov', 'Dec']\n"
     ]
    }
   ],
   "source": [
    "#The total number of months included in the dataset\n",
    "\n",
    "month = []\n",
    "year = []\n",
    "\n",
    "with open(csvpath,'r') as csvfile:\n",
    "    csvreader = csv.reader(csvfile, delimiter=',')\n",
    "    header = next(csvreader)\n",
    "    \n",
    "    for row in csvreader:\n",
    "        split_date = row[0].split(\"-\")\n",
    "        month =  month + [split_date[0]]\n",
    "        year = year + [split_date[1]]\n",
    "\n",
    "unique_month = []\n",
    "for i in month:\n",
    "    if i not in unique_month: \n",
    "        unique_month.append(i)\n",
    "print(unique_month)\n"
   ]
  },
  {
   "cell_type": "code",
   "execution_count": 4,
   "metadata": {},
   "outputs": [
    {
     "name": "stdout",
     "output_type": "stream",
     "text": [
      "86\n"
     ]
    }
   ],
   "source": [
    "#Count the total number of months included in the dataset\n",
    "\n",
    "Jan_count=month.count(\"Jan\")\n",
    "Feb_count=month.count(\"Feb\")\n",
    "Mar_count=month.count(\"Mar\")\n",
    "Apr_count=month.count(\"Apr\")\n",
    "May_count=month.count(\"May\")\n",
    "Jun_count=month.count(\"Jun\")\n",
    "Jul_count=month.count(\"Jul\")\n",
    "Aug_count=month.count(\"Aug\")\n",
    "Sep_count=month.count(\"Sep\")\n",
    "Oct_count=month.count(\"Oct\")\n",
    "Nov_count=month.count(\"Nov\")\n",
    "Dec_count=month.count(\"Dec\")\n",
    "month_list=[Jan_count,Feb_count,Mar_count,Apr_count,May_count,Jun_count,Jul_count,Aug_count,Sep_count,Oct_count,Nov_count,Dec_count]\n",
    "month_count=sum(month_list)\n",
    "print(month_count)"
   ]
  },
  {
   "cell_type": "code",
   "execution_count": 5,
   "metadata": {},
   "outputs": [
    {
     "name": "stdout",
     "output_type": "stream",
     "text": [
      "38382578\n"
     ]
    }
   ],
   "source": [
    "#The net total amount of \"Profit/Losses\" over the entire period\n",
    "\n",
    "with open(csvpath,'r') as csvfile:\n",
    "    csvreader = csv.reader(csvfile, delimiter=',')\n",
    "    header = next(csvreader)\n",
    "    total = sum(int(row[1]) for row in csvreader)\n",
    "print(total)"
   ]
  },
  {
   "cell_type": "code",
   "execution_count": 6,
   "metadata": {},
   "outputs": [
    {
     "name": "stdout",
     "output_type": "stream",
     "text": [
      "446309.0465116279\n"
     ]
    }
   ],
   "source": [
    "#The average of the changes in \"Profit/Losses\" over the entire period\n",
    "\n",
    "average=total/month_count\n",
    "print(average)"
   ]
  },
  {
   "cell_type": "code",
   "execution_count": 7,
   "metadata": {},
   "outputs": [
    {
     "name": "stdout",
     "output_type": "stream",
     "text": [
      "The greatest increase in profits was in Feb-2012 $1,170,593.00\n"
     ]
    }
   ],
   "source": [
    "#The greatest increase in profits (date and amount) over the entire period\n",
    "\n",
    "def print_maxdate():\n",
    "    max_date = str(row[0])\n",
    "    \n",
    "with open(csvpath,'r') as csvfile:\n",
    "    csvreader = csv.reader(csvfile, delimiter=',')\n",
    "    header = next(csvreader)\n",
    "    max_change = max(float(row[1]) for row in csvreader)\n",
    "    max_change_dollars = \"${:,.2f}\".format(max_change)\n",
    "\n",
    "\n",
    "    with open(csvpath,'r') as csvfile:\n",
    "        csvreader = csv.reader(csvfile, delimiter=',')\n",
    "        header = next(csvreader)\n",
    "        for row in csvreader:\n",
    "            if max_change == float(row[1]):\n",
    "                max_date = str(row[0])\n",
    "print(\"The greatest increase in profits was in\", max_date, max_change_dollars)"
   ]
  },
  {
   "cell_type": "code",
   "execution_count": 8,
   "metadata": {},
   "outputs": [
    {
     "name": "stdout",
     "output_type": "stream",
     "text": [
      "The greatest decrease in losses was in Sep-2013 $-1,196,225.00\n"
     ]
    }
   ],
   "source": [
    "#The greatest decrease in losses (date and amount) over the entire period\n",
    "\n",
    "def print_maxdate():\n",
    "    min_date = str(row[0])\n",
    "    \n",
    "with open(csvpath,'r') as csvfile:\n",
    "    csvreader = csv.reader(csvfile, delimiter=',')\n",
    "    header = next(csvreader)\n",
    "    min_change = min(float(row[1]) for row in csvreader)\n",
    "    min_change_dollars = \"${:,.2f}\".format(min_change)\n",
    "\n",
    "    with open(csvpath,'r') as csvfile:\n",
    "        csvreader = csv.reader(csvfile, delimiter=',')\n",
    "        header = next(csvreader)\n",
    "        for row in csvreader:\n",
    "            if min_change == float(row[1]):\n",
    "                min_date = str(row[0])\n",
    "print(\"The greatest decrease in losses was in\", min_date, min_change_dollars)"
   ]
  },
  {
   "cell_type": "code",
   "execution_count": 9,
   "metadata": {},
   "outputs": [
    {
     "name": "stdout",
     "output_type": "stream",
     "text": [
      "\n",
      "Financial Analysis\n",
      "-----------------\n",
      "Total Months: 86\n",
      "Average  Change: 446309.0465116279\n",
      "Greatest increase in profits was in Feb-2012 ($1,170,593.00)\n",
      "Greatest decrease in losses was in Sep-2013 ($-1,196,225.00)\n",
      "\n"
     ]
    }
   ],
   "source": [
    "\n",
    "# Generate Paragraph Analysis Output\n",
    "output = (\n",
    "    f\"\\nFinancial Analysis\\n\"\n",
    "    f\"-----------------\\n\"\n",
    "    f\"Total Months: {month_count}\\n\"\n",
    "    f\"Average  Change: {average}\\n\"\n",
    "    f\"Greatest increase in profits was in {max_date} ({max_change_dollars})\\n\"\n",
    "    f\"Greatest decrease in losses was in {min_date} ({min_change_dollars})\\n\")\n",
    "\n",
    "# Print all of the results (to terminal)\n",
    "print(output)\n",
    "\n",
    "file_to_output = os.path.join(\"analysis\", \"PyBank_output.txt\")\n",
    "\n",
    "# Save the results to analysis text file\n",
    "with open(file_to_output, \"a\") as txt_file:\n",
    "    txt_file.write(output)\n"
   ]
  },
  {
   "cell_type": "code",
   "execution_count": null,
   "metadata": {},
   "outputs": [],
   "source": []
  }
 ],
 "metadata": {
  "kernelspec": {
   "display_name": "p36workshop",
   "language": "python",
   "name": "p36workshop"
  },
  "language_info": {
   "codemirror_mode": {
    "name": "ipython",
    "version": 3
   },
   "file_extension": ".py",
   "mimetype": "text/x-python",
   "name": "python",
   "nbconvert_exporter": "python",
   "pygments_lexer": "ipython3",
   "version": "3.6.10"
  }
 },
 "nbformat": 4,
 "nbformat_minor": 2
}
